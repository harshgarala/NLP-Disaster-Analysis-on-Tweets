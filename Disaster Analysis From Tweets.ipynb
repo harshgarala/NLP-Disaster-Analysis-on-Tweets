{
 "cells": [
  {
   "cell_type": "markdown",
   "metadata": {},
   "source": [
    "# Import dataset and apply data preprocessing"
   ]
  },
  {
   "cell_type": "code",
   "execution_count": 1,
   "metadata": {},
   "outputs": [],
   "source": [
    "## The dataset used in this example is taken from Twitter. Various NLP methods and Sentimental Analysis methods has been carried out below"
   ]
  },
  {
   "cell_type": "code",
   "execution_count": 30,
   "metadata": {},
   "outputs": [],
   "source": [
    "import pandas as pd\n",
    "import nltk\n",
    "from nltk.tokenize import regexp_tokenize\n",
    "from nltk.tokenize import sent_tokenize\n",
    "from nltk.tokenize import word_tokenize\n",
    "from nltk.corpus import stopwords\n",
    "from nltk.stem import PorterStemmer\n",
    "from nltk.stem import WordNetLemmatizer \n",
    "from autocorrect import spell\n",
    "from textblob import TextBlob"
   ]
  },
  {
   "cell_type": "code",
   "execution_count": 31,
   "metadata": {},
   "outputs": [],
   "source": [
    "ds= pd.read_csv(\"train.csv\")"
   ]
  },
  {
   "cell_type": "code",
   "execution_count": 32,
   "metadata": {},
   "outputs": [],
   "source": [
    "#Drop unwanted columns from dataset\n",
    "ds.drop([\"id\", \"keyword\"], axis = 1, inplace = True) "
   ]
  },
  {
   "cell_type": "code",
   "execution_count": 33,
   "metadata": {},
   "outputs": [],
   "source": [
    "#remove special characters in text column of dataset\n",
    "spec_chars = [\"!\",'\"',\"#\",\"%\",\"&\",\"'\",\"(\",\")\",\n",
    "              \"*\",\"+\",\",\",\"-\",\".\",\"/\",\":\",\";\",\"<\",\n",
    "              \"=\",\">\",\"?\",\"@\",\"[\",\"\\\\\",\"]\",\"^\",\"_\",\n",
    "              \"`\",\"{\",\"|\",\"}\",\"~\",\"–\"]\n",
    "for char in spec_chars:\n",
    "    ds['text'] = ds['text'].str.replace(char, ' ')"
   ]
  },
  {
   "cell_type": "code",
   "execution_count": 34,
   "metadata": {},
   "outputs": [],
   "source": [
    "#apply word tokanization in text column of dataset\n",
    "ds['tokenized_sents'] = ds.apply(lambda row: nltk.word_tokenize(row['text']), axis=1)"
   ]
  },
  {
   "cell_type": "code",
   "execution_count": 35,
   "metadata": {},
   "outputs": [],
   "source": [
    "#remove stop-words from the text column of dataset\n",
    "stop_words = stopwords.words('english')\n",
    "stop_words1 = [x for x in stop_words if \"n'\" not in x] \n",
    "stop_words2 = [x for x in stop_words1 if x not in ('against','aren','after','no','nor','not','only','too','very','haven','couldn','didn','doesn','hadn','hasn','haven','isn','ma','mightn','mustn','needn','shan','shouldn','wasn','weren','won','wouldn')]\n",
    "ds['stopwords_sents'] = ds['tokenized_sents'].apply(lambda x: [item for item in x if item.lower() not in stop_words2])"
   ]
  },
  {
   "cell_type": "code",
   "execution_count": 36,
   "metadata": {},
   "outputs": [],
   "source": [
    "#stemming \n",
    "stemming = PorterStemmer()\n",
    "ds['stemming'] = ds['stopwords_sents'].apply(lambda x: [stemming.stem(item) for item in x])"
   ]
  },
  {
   "cell_type": "code",
   "execution_count": 37,
   "metadata": {},
   "outputs": [],
   "source": [
    "#Lemmatization\n",
    "lemmatizer = WordNetLemmatizer() \n",
    "ds['lemmatizer'] = ds['stopwords_sents'].apply(lambda x: [lemmatizer.lemmatize(item, pos ='v') for item in x])"
   ]
  },
  {
   "cell_type": "code",
   "execution_count": null,
   "metadata": {},
   "outputs": [],
   "source": [
    "#Autocorrect\n",
    "def autocorrect_spell(row):\n",
    "    hg= row['processed']\n",
    "    g=[]\n",
    "    #g=(str(' '.join([spell(word) for word in hg])))\n",
    "    g.append(spell(str(hg))) \n",
    "    return g\n",
    "ds['corrected_speller'] = ds.apply(autocorrect_spell, axis=1)\n",
    "\n",
    "from textblob import TextBlob\n",
    "\n",
    "def autocorrect_tx(row):\n",
    "    hg= row['processed']\n",
    "    g=[]\n",
    "    #for word in hg:\n",
    "    g.append(str(TextBlob(str(hg)).correct()))\n",
    "    return g\n",
    "ds['corrected_textblob'] = ds.apply(autocorrect_tx, axis=1)"
   ]
  },
  {
   "cell_type": "markdown",
   "metadata": {},
   "source": [
    "# Get City,State, and Country from Location field"
   ]
  },
  {
   "cell_type": "code",
   "execution_count": null,
   "metadata": {},
   "outputs": [],
   "source": [
    "import locationtagger\n",
    "#data2.to_csv(r'country.csv')\n",
    "def loc(row):\n",
    "    hg_list = row['location']\n",
    "    entities = locationtagger.find_locations(text = hg_list)\n",
    "    return (entities.countries)\n",
    "\n",
    "ds['country'] = ds.apply(loc, axis=1)\n",
    "def loc(row):\n",
    "    hg_list = row['location']\n",
    "    entities = locationtagger.find_locations(text = hg_list)\n",
    "    return (entities.cities)\n",
    "\n",
    "ds['city'] = ds.apply(loc, axis=1)\n",
    "def loc(row):\n",
    "    hg_list = row['location']\n",
    "    entities = locationtagger.find_locations(text = hg_list)"
   ]
  },
  {
   "cell_type": "code",
   "execution_count": null,
   "metadata": {},
   "outputs": [],
   "source": [
    "#Get sentence from words\n",
    "def rejoin_words(row):\n",
    "    my_list = row['corrected_textblob']\n",
    "    joined_words = (\" \".join(my_list))\n",
    "    return joined_words\n",
    "ds['new_text'] = ds.apply(rejoin_words, axis=1)"
   ]
  },
  {
   "cell_type": "code",
   "execution_count": null,
   "metadata": {},
   "outputs": [],
   "source": [
    "#Shuffle a text column's rows\n",
    "ds = ds.sample(frac=1)"
   ]
  },
  {
   "cell_type": "code",
   "execution_count": 12,
   "metadata": {},
   "outputs": [
    {
     "data": {
      "text/html": [
       "<div>\n",
       "<style scoped>\n",
       "    .dataframe tbody tr th:only-of-type {\n",
       "        vertical-align: middle;\n",
       "    }\n",
       "\n",
       "    .dataframe tbody tr th {\n",
       "        vertical-align: top;\n",
       "    }\n",
       "\n",
       "    .dataframe thead th {\n",
       "        text-align: right;\n",
       "    }\n",
       "</style>\n",
       "<table border=\"1\" class=\"dataframe\">\n",
       "  <thead>\n",
       "    <tr style=\"text-align: right;\">\n",
       "      <th></th>\n",
       "      <th>text</th>\n",
       "      <th>target</th>\n",
       "      <th>tokenized_sents</th>\n",
       "      <th>stopwords_sents</th>\n",
       "      <th>stemming</th>\n",
       "      <th>lemmatizer</th>\n",
       "      <th>new_text</th>\n",
       "    </tr>\n",
       "  </thead>\n",
       "  <tbody>\n",
       "    <tr>\n",
       "      <th>2380</th>\n",
       "      <td>TheJenMorillo GM  I pray any attack of the en...</td>\n",
       "      <td>0</td>\n",
       "      <td>[TheJenMorillo, GM, I, pray, any, attack, of, ...</td>\n",
       "      <td>[TheJenMorillo, GM, pray, attack, enemy, 2, de...</td>\n",
       "      <td>[thejenmorillo, gm, pray, attack, enemi, 2, de...</td>\n",
       "      <td>[TheJenMorillo, GM, pray, attack, enemy, 2, de...</td>\n",
       "      <td>TheJenMorillo GM pray attack enemy 2 derail ur...</td>\n",
       "    </tr>\n",
       "    <tr>\n",
       "      <th>1651</th>\n",
       "      <td>My portable closet has collapsed 3x and it fin...</td>\n",
       "      <td>0</td>\n",
       "      <td>[My, portable, closet, has, collapsed, 3x, and...</td>\n",
       "      <td>[portable, closet, collapsed, 3x, finally, bro...</td>\n",
       "      <td>[portabl, closet, collaps, 3x, final, broke, m...</td>\n",
       "      <td>[portable, closet, collapse, 3x, finally, brea...</td>\n",
       "      <td>portable closet collapse 3x finally break mom ...</td>\n",
       "    </tr>\n",
       "    <tr>\n",
       "      <th>3142</th>\n",
       "      <td>newyorkcity for the  international emergency ...</td>\n",
       "      <td>0</td>\n",
       "      <td>[newyorkcity, for, the, international, emergen...</td>\n",
       "      <td>[newyorkcity, international, emergency, medici...</td>\n",
       "      <td>[newyorkc, intern, emerg, medicin, confer, w, ...</td>\n",
       "      <td>[newyorkcity, international, emergency, medici...</td>\n",
       "      <td>newyorkcity international emergency medicine c...</td>\n",
       "    </tr>\n",
       "    <tr>\n",
       "      <th>5650</th>\n",
       "      <td>Don t Panik   KelbyTomlinson to the rescue  ht...</td>\n",
       "      <td>0</td>\n",
       "      <td>[Don, t, Panik, KelbyTomlinson, to, the, rescu...</td>\n",
       "      <td>[Panik, KelbyTomlinson, rescue, http, co, hujv...</td>\n",
       "      <td>[panik, kelbytomlinson, rescu, http, co, hujvg...</td>\n",
       "      <td>[Panik, KelbyTomlinson, rescue, http, co, hujv...</td>\n",
       "      <td>Panik KelbyTomlinson rescue http co hujvgsFLUs</td>\n",
       "    </tr>\n",
       "    <tr>\n",
       "      <th>4040</th>\n",
       "      <td>NaturalDisasters As California fires rage the...</td>\n",
       "      <td>1</td>\n",
       "      <td>[NaturalDisasters, As, California, fires, rage...</td>\n",
       "      <td>[NaturalDisasters, California, fires, rage, Fo...</td>\n",
       "      <td>[naturaldisast, california, fire, rage, forest...</td>\n",
       "      <td>[NaturalDisasters, California, fire, rage, For...</td>\n",
       "      <td>NaturalDisasters California fire rage Forest S...</td>\n",
       "    </tr>\n",
       "    <tr>\n",
       "      <th>2739</th>\n",
       "      <td>Obama Declares Disaster for Typhoon Devastated...</td>\n",
       "      <td>1</td>\n",
       "      <td>[Obama, Declares, Disaster, for, Typhoon, Deva...</td>\n",
       "      <td>[Obama, Declares, Disaster, Typhoon, Devastate...</td>\n",
       "      <td>[obama, declar, disast, typhoon, devast, saipa...</td>\n",
       "      <td>[Obama, Declares, Disaster, Typhoon, Devastate...</td>\n",
       "      <td>Obama Declares Disaster Typhoon Devastated Sai...</td>\n",
       "    </tr>\n",
       "    <tr>\n",
       "      <th>5988</th>\n",
       "      <td>screams  http   t co PU7C4Hhbxj</td>\n",
       "      <td>0</td>\n",
       "      <td>[screams, http, t, co, PU7C4Hhbxj]</td>\n",
       "      <td>[screams, http, co, PU7C4Hhbxj]</td>\n",
       "      <td>[scream, http, co, pu7c4hhbxj]</td>\n",
       "      <td>[scream, http, co, PU7C4Hhbxj]</td>\n",
       "      <td>scream http co PU7C4Hhbxj</td>\n",
       "    </tr>\n",
       "    <tr>\n",
       "      <th>136</th>\n",
       "      <td>Experts in France begin examining airplane deb...</td>\n",
       "      <td>1</td>\n",
       "      <td>[Experts, in, France, begin, examining, airpla...</td>\n",
       "      <td>[Experts, France, begin, examining, airplane, ...</td>\n",
       "      <td>[expert, franc, begin, examin, airplan, debri,...</td>\n",
       "      <td>[Experts, France, begin, examine, airplane, de...</td>\n",
       "      <td>Experts France begin examine airplane debris f...</td>\n",
       "    </tr>\n",
       "    <tr>\n",
       "      <th>5208</th>\n",
       "      <td>Drunk Meals 101  What To Cook When You re Tota...</td>\n",
       "      <td>0</td>\n",
       "      <td>[Drunk, Meals, 101, What, To, Cook, When, You,...</td>\n",
       "      <td>[Drunk, Meals, 101, Cook, Totally, Obliterated...</td>\n",
       "      <td>[drunk, meal, 101, cook, total, obliter, http,...</td>\n",
       "      <td>[Drunk, Meals, 101, Cook, Totally, Obliterated...</td>\n",
       "      <td>Drunk Meals 101 Cook Totally Obliterated http ...</td>\n",
       "    </tr>\n",
       "    <tr>\n",
       "      <th>6605</th>\n",
       "      <td>CTD arrest three vital criminals from Orangi  ...</td>\n",
       "      <td>1</td>\n",
       "      <td>[CTD, arrest, three, vital, criminals, from, O...</td>\n",
       "      <td>[CTD, arrest, three, vital, criminals, Orangi,...</td>\n",
       "      <td>[ctd, arrest, three, vital, crimin, orangi, ka...</td>\n",
       "      <td>[CTD, arrest, three, vital, criminals, Orangi,...</td>\n",
       "      <td>CTD arrest three vital criminals Orangi KARACH...</td>\n",
       "    </tr>\n",
       "  </tbody>\n",
       "</table>\n",
       "</div>"
      ],
      "text/plain": [
       "                                                   text  target  \\\n",
       "2380   TheJenMorillo GM  I pray any attack of the en...       0   \n",
       "1651  My portable closet has collapsed 3x and it fin...       0   \n",
       "3142   newyorkcity for the  international emergency ...       0   \n",
       "5650  Don t Panik   KelbyTomlinson to the rescue  ht...       0   \n",
       "4040   NaturalDisasters As California fires rage the...       1   \n",
       "2739  Obama Declares Disaster for Typhoon Devastated...       1   \n",
       "5988                    screams  http   t co PU7C4Hhbxj       0   \n",
       "136   Experts in France begin examining airplane deb...       1   \n",
       "5208  Drunk Meals 101  What To Cook When You re Tota...       0   \n",
       "6605  CTD arrest three vital criminals from Orangi  ...       1   \n",
       "\n",
       "                                        tokenized_sents  \\\n",
       "2380  [TheJenMorillo, GM, I, pray, any, attack, of, ...   \n",
       "1651  [My, portable, closet, has, collapsed, 3x, and...   \n",
       "3142  [newyorkcity, for, the, international, emergen...   \n",
       "5650  [Don, t, Panik, KelbyTomlinson, to, the, rescu...   \n",
       "4040  [NaturalDisasters, As, California, fires, rage...   \n",
       "2739  [Obama, Declares, Disaster, for, Typhoon, Deva...   \n",
       "5988                 [screams, http, t, co, PU7C4Hhbxj]   \n",
       "136   [Experts, in, France, begin, examining, airpla...   \n",
       "5208  [Drunk, Meals, 101, What, To, Cook, When, You,...   \n",
       "6605  [CTD, arrest, three, vital, criminals, from, O...   \n",
       "\n",
       "                                        stopwords_sents  \\\n",
       "2380  [TheJenMorillo, GM, pray, attack, enemy, 2, de...   \n",
       "1651  [portable, closet, collapsed, 3x, finally, bro...   \n",
       "3142  [newyorkcity, international, emergency, medici...   \n",
       "5650  [Panik, KelbyTomlinson, rescue, http, co, hujv...   \n",
       "4040  [NaturalDisasters, California, fires, rage, Fo...   \n",
       "2739  [Obama, Declares, Disaster, Typhoon, Devastate...   \n",
       "5988                    [screams, http, co, PU7C4Hhbxj]   \n",
       "136   [Experts, France, begin, examining, airplane, ...   \n",
       "5208  [Drunk, Meals, 101, Cook, Totally, Obliterated...   \n",
       "6605  [CTD, arrest, three, vital, criminals, Orangi,...   \n",
       "\n",
       "                                               stemming  \\\n",
       "2380  [thejenmorillo, gm, pray, attack, enemi, 2, de...   \n",
       "1651  [portabl, closet, collaps, 3x, final, broke, m...   \n",
       "3142  [newyorkc, intern, emerg, medicin, confer, w, ...   \n",
       "5650  [panik, kelbytomlinson, rescu, http, co, hujvg...   \n",
       "4040  [naturaldisast, california, fire, rage, forest...   \n",
       "2739  [obama, declar, disast, typhoon, devast, saipa...   \n",
       "5988                     [scream, http, co, pu7c4hhbxj]   \n",
       "136   [expert, franc, begin, examin, airplan, debri,...   \n",
       "5208  [drunk, meal, 101, cook, total, obliter, http,...   \n",
       "6605  [ctd, arrest, three, vital, crimin, orangi, ka...   \n",
       "\n",
       "                                             lemmatizer  \\\n",
       "2380  [TheJenMorillo, GM, pray, attack, enemy, 2, de...   \n",
       "1651  [portable, closet, collapse, 3x, finally, brea...   \n",
       "3142  [newyorkcity, international, emergency, medici...   \n",
       "5650  [Panik, KelbyTomlinson, rescue, http, co, hujv...   \n",
       "4040  [NaturalDisasters, California, fire, rage, For...   \n",
       "2739  [Obama, Declares, Disaster, Typhoon, Devastate...   \n",
       "5988                     [scream, http, co, PU7C4Hhbxj]   \n",
       "136   [Experts, France, begin, examine, airplane, de...   \n",
       "5208  [Drunk, Meals, 101, Cook, Totally, Obliterated...   \n",
       "6605  [CTD, arrest, three, vital, criminals, Orangi,...   \n",
       "\n",
       "                                               new_text  \n",
       "2380  TheJenMorillo GM pray attack enemy 2 derail ur...  \n",
       "1651  portable closet collapse 3x finally break mom ...  \n",
       "3142  newyorkcity international emergency medicine c...  \n",
       "5650     Panik KelbyTomlinson rescue http co hujvgsFLUs  \n",
       "4040  NaturalDisasters California fire rage Forest S...  \n",
       "2739  Obama Declares Disaster Typhoon Devastated Sai...  \n",
       "5988                          scream http co PU7C4Hhbxj  \n",
       "136   Experts France begin examine airplane debris f...  \n",
       "5208  Drunk Meals 101 Cook Totally Obliterated http ...  \n",
       "6605  CTD arrest three vital criminals Orangi KARACH...  "
      ]
     },
     "execution_count": 12,
     "metadata": {},
     "output_type": "execute_result"
    }
   ],
   "source": [
    "ds.head(10)"
   ]
  },
  {
   "cell_type": "markdown",
   "metadata": {},
   "source": [
    "# Apply various models for train dataset and find best accuracy"
   ]
  },
  {
   "cell_type": "markdown",
   "metadata": {},
   "source": [
    "## Train Model"
   ]
  },
  {
   "cell_type": "code",
   "execution_count": 21,
   "metadata": {},
   "outputs": [],
   "source": [
    "# train our model\n",
    "import numpy as np\n",
    "from sklearn.model_selection import train_test_split\n",
    "from sklearn.metrics import classification_report\n",
    "import re\n",
    "import string\n",
    "from sklearn.feature_extraction.text import TfidfVectorizer\n",
    "from sklearn.feature_extraction.text import CountVectorizer\n",
    "from sklearn.feature_extraction.text import HashingVectorizer\n",
    "from sklearn.linear_model import LogisticRegression\n",
    "from sklearn.tree import DecisionTreeClassifier\n",
    "from sklearn.ensemble import GradientBoostingClassifier\n",
    "from sklearn.ensemble import RandomForestClassifier\n",
    "from sklearn.metrics import confusion_matrix\n",
    "\n",
    "#set x as an independent veriable and y as a dependent variable\n",
    "x = ds[\"new_text\"]\n",
    "y = ds[\"target\"]\n",
    "\n",
    "x_train, x_test, y_train, y_test = train_test_split(x, y, test_size = .30)"
   ]
  },
  {
   "cell_type": "markdown",
   "metadata": {},
   "source": [
    "# Vectorization"
   ]
  },
  {
   "cell_type": "code",
   "execution_count": 22,
   "metadata": {},
   "outputs": [
    {
     "data": {
      "text/plain": [
       "pandas.core.series.Series"
      ]
     },
     "execution_count": 22,
     "metadata": {},
     "output_type": "execute_result"
    }
   ],
   "source": [
    "type(y_train)"
   ]
  },
  {
   "cell_type": "code",
   "execution_count": 23,
   "metadata": {},
   "outputs": [],
   "source": [
    "#Vectorization using TfidfVectorizer\n",
    "#vectorization = TfidfVectorizer()\n",
    "\n",
    "#Vectorization using CountVectorizer\n",
    "vectorization = CountVectorizer() \n",
    "\n",
    "#Vectorization using HashingVectorizer\n",
    "#vectorization = HashingVectorizer() \n",
    "\n",
    "xv_train = vectorization.fit_transform(x_train)\n",
    "xv_test = vectorization.transform(x_test)"
   ]
  },
  {
   "cell_type": "markdown",
   "metadata": {},
   "source": [
    "# Logistic Regression"
   ]
  },
  {
   "cell_type": "code",
   "execution_count": 24,
   "metadata": {},
   "outputs": [
    {
     "name": "stdout",
     "output_type": "stream",
     "text": [
      "0.7946584938704028\n",
      "              precision    recall  f1-score   support\n",
      "\n",
      "           0       0.80      0.85      0.83      1310\n",
      "           1       0.78      0.72      0.75       974\n",
      "\n",
      "    accuracy                           0.79      2284\n",
      "   macro avg       0.79      0.78      0.79      2284\n",
      "weighted avg       0.79      0.79      0.79      2284\n",
      "\n",
      "[[1115  195]\n",
      " [ 274  700]]\n"
     ]
    }
   ],
   "source": [
    "LR = LogisticRegression()\n",
    "LR.fit(xv_train, y_train)\n",
    "\n",
    "LR.score(xv_test, y_test)\n",
    "print(LR.score(xv_test, y_test))\n",
    "\n",
    "pred_LR = LR.predict(xv_test)\n",
    "print(classification_report(y_test, pred_LR))\n",
    "\n",
    "print(confusion_matrix(y_test, pred_LR))"
   ]
  },
  {
   "cell_type": "markdown",
   "metadata": {},
   "source": [
    "# Decision Tree Classification"
   ]
  },
  {
   "cell_type": "code",
   "execution_count": 25,
   "metadata": {
    "scrolled": true
   },
   "outputs": [
    {
     "name": "stdout",
     "output_type": "stream",
     "text": [
      "0.7535026269702276\n",
      "              precision    recall  f1-score   support\n",
      "\n",
      "           0       0.77      0.82      0.79      1310\n",
      "           1       0.73      0.67      0.70       974\n",
      "\n",
      "    accuracy                           0.75      2284\n",
      "   macro avg       0.75      0.74      0.74      2284\n",
      "weighted avg       0.75      0.75      0.75      2284\n",
      "\n",
      "[[1070  240]\n",
      " [ 323  651]]\n"
     ]
    }
   ],
   "source": [
    "DT = DecisionTreeClassifier()\n",
    "DT.fit(xv_train, y_train)\n",
    "\n",
    "DT.score(xv_test, y_test)\n",
    "print(DT.score(xv_test, y_test))\n",
    "\n",
    "pred_DT = DT.predict(xv_test)\n",
    "print(classification_report(y_test, pred_DT))\n",
    "\n",
    "print(confusion_matrix(y_test, pred_DT))"
   ]
  },
  {
   "cell_type": "markdown",
   "metadata": {},
   "source": [
    "# Gardient Boosting Classifier"
   ]
  },
  {
   "cell_type": "code",
   "execution_count": 26,
   "metadata": {},
   "outputs": [
    {
     "name": "stdout",
     "output_type": "stream",
     "text": [
      "0.7539404553415061\n",
      "              precision    recall  f1-score   support\n",
      "\n",
      "           0       0.73      0.90      0.81      1310\n",
      "           1       0.81      0.55      0.66       974\n",
      "\n",
      "    accuracy                           0.75      2284\n",
      "   macro avg       0.77      0.73      0.73      2284\n",
      "weighted avg       0.76      0.75      0.74      2284\n",
      "\n",
      "[[1185  125]\n",
      " [ 437  537]]\n"
     ]
    }
   ],
   "source": [
    "GBC = GradientBoostingClassifier()\n",
    "GBC.fit(xv_train, y_train)\n",
    "\n",
    "GBC.score(xv_test, y_test)\n",
    "print(GBC.score(xv_test, y_test))\n",
    "\n",
    "pred_GBC = GBC.predict(xv_test)\n",
    "print(classification_report(y_test, pred_GBC))\n",
    "\n",
    "print(confusion_matrix(y_test, pred_GBC))"
   ]
  },
  {
   "cell_type": "markdown",
   "metadata": {},
   "source": [
    "# Random Forest Classifier"
   ]
  },
  {
   "cell_type": "code",
   "execution_count": 27,
   "metadata": {},
   "outputs": [
    {
     "name": "stdout",
     "output_type": "stream",
     "text": [
      "0.7859019264448336\n",
      "              precision    recall  f1-score   support\n",
      "\n",
      "           0       0.76      0.93      0.83      1310\n",
      "           1       0.86      0.60      0.70       974\n",
      "\n",
      "    accuracy                           0.79      2284\n",
      "   macro avg       0.81      0.76      0.77      2284\n",
      "weighted avg       0.80      0.79      0.78      2284\n",
      "\n",
      "[[1215   95]\n",
      " [ 394  580]]\n"
     ]
    }
   ],
   "source": [
    "RFC = RandomForestClassifier()\n",
    "RFC.fit(xv_train, y_train)\n",
    "\n",
    "RFC.score(xv_test, y_test)\n",
    "print(RFC.score(xv_test, y_test))\n",
    "\n",
    "pred_RFC = RFC.predict(xv_test)\n",
    "print(classification_report(y_test, pred_RFC))\n",
    "\n",
    "print(confusion_matrix(y_test, pred_RFC))"
   ]
  },
  {
   "cell_type": "markdown",
   "metadata": {},
   "source": [
    "# Manual Testing"
   ]
  },
  {
   "cell_type": "code",
   "execution_count": 28,
   "metadata": {},
   "outputs": [],
   "source": [
    "def result_label(n):\n",
    "    if n==0:\n",
    "        return \"Fake Disaster\"\n",
    "    elif n==1:\n",
    "        return \"True Disaster\"\n",
    "    \n",
    "def manual_testing(tweet):\n",
    "    testing_tweet = {\"text\":[tweet]}\n",
    "    new_def_test = pd.DataFrame(testing_tweet)\n",
    "    new_def_test[\"text\"] = new_def_test[\"text\"]\n",
    "    new_x_test = new_def_test[\"text\"]\n",
    "    new_xv_test = vectorization.transform(new_x_test)\n",
    "    pred_LR = LR.predict(new_xv_test)\n",
    "    pred_DT = DT.predict(new_xv_test)\n",
    "    pred_GBC = GBC.predict(new_xv_test)\n",
    "    pred_RFC = RFC.predict(new_xv_test)\n",
    "    \n",
    "    return print(\"\\nLR Prediction: {} \\nDT Prediction: {} \\nGBC Prediction: {} \\nRFC Prediction: {}\".format(result_label(pred_LR[0]), \n",
    "                                                                                                              result_label(pred_DT[0]), \n",
    "                                                                                                              result_label(pred_GBC[0]), \n",
    "                                                                                                              result_label(pred_RFC[0])))"
   ]
  },
  {
   "cell_type": "code",
   "execution_count": null,
   "metadata": {},
   "outputs": [],
   "source": [
    "tweet = str(input())\n",
    "manual_testing(tweet)"
   ]
  },
  {
   "cell_type": "markdown",
   "metadata": {},
   "source": [
    "## Test Model "
   ]
  },
  {
   "cell_type": "code",
   "execution_count": null,
   "metadata": {},
   "outputs": [],
   "source": [
    "import pandas as pd\n",
    "\n",
    "df= pd.read_csv(\"test.csv\")\n",
    "df.head()"
   ]
  },
  {
   "cell_type": "code",
   "execution_count": null,
   "metadata": {},
   "outputs": [],
   "source": [
    "#vectorize = vectorization.transform(df[\"text\"])\n",
    "new_vect = vectorization.fit_transform(df[\"text\"])\n",
    "df[\"pred\"]=LR.predict(new_vect)"
   ]
  },
  {
   "cell_type": "code",
   "execution_count": 17,
   "metadata": {},
   "outputs": [],
   "source": [
    "#import pandas as pd\n",
    "\n",
    "#df= pd.read_csv(\"test.csv\")\n",
    "\n",
    "#text = df[\"text\"]\n",
    "#new_vect = vectorization.fit_transform(text)\n",
    "#df[\"pred\"]=LR.predict(new_vect)\n",
    "#df.head()"
   ]
  },
  {
   "cell_type": "code",
   "execution_count": 18,
   "metadata": {},
   "outputs": [
    {
     "name": "stdout",
     "output_type": "stream",
     "text": [
      "[[4159  183]\n",
      " [ 440 2831]]\n"
     ]
    }
   ],
   "source": [
    "#xv_train = vectorization.fit_transform(ds[\"new_text\"])\n",
    "vectorize = vectorization.transform(ds[\"new_text\"])\n",
    "_new = vectorization.fit_transform(ds[\"new_text\"])\n",
    "pred=LR.predict(vectorize)\n",
    "_t = ds[\"target\"]\n",
    "print(confusion_matrix(_t, pred))"
   ]
  },
  {
   "cell_type": "code",
   "execution_count": 19,
   "metadata": {},
   "outputs": [
    {
     "data": {
      "image/png": "[encoded data removed]",
      "text/plain": [
       "<Figure size 432x288 with 2 Axes>"
      ]
     },
     "metadata": {
      "needs_background": "light"
     },
     "output_type": "display_data"
    }
   ],
   "source": [
    "import pandas as pd\n",
    "import seaborn as sn\n",
    "import matplotlib.pyplot as plt\n",
    "\n",
    "data = {'y_Actual':    ds[\"target\"],\n",
    "        'y_Predicted': pred\n",
    "        }\n",
    "\n",
    "df = pd.DataFrame(data, columns=['y_Actual','y_Predicted'])\n",
    "confusion_matrix = pd.crosstab(df['y_Actual'], df['y_Predicted'], rownames=['Actual'], colnames=['Predicted'])\n",
    "\n",
    "sn.heatmap(confusion_matrix, annot=True)\n",
    "plt.show()"
   ]
  },
  {
   "cell_type": "code",
   "execution_count": null,
   "metadata": {},
   "outputs": [],
   "source": []
  },
  {
   "cell_type": "code",
   "execution_count": null,
   "metadata": {},
   "outputs": [],
   "source": []
  }
 ],
 "metadata": {
  "kernelspec": {
   "display_name": "Python 3",
   "language": "python",
   "name": "python3"
  },
  "language_info": {
   "codemirror_mode": {
    "name": "ipython",
    "version": 3
   },
   "file_extension": ".py",
   "mimetype": "text/x-python",
   "name": "python",
   "nbconvert_exporter": "python",
   "pygments_lexer": "ipython3",
   "version": "3.8.5"
  }
 },
 "nbformat": 4,
 "nbformat_minor": 4
}
